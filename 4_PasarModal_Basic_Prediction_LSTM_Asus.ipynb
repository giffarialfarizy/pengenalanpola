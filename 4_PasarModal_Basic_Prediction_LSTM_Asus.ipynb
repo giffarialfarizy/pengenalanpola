{
 "cells": [
  {
   "cell_type": "markdown",
   "metadata": {},
   "source": [
    "# Prediksi Pasar Modal dengan LSTM dengan Dataset Baru"
   ]
  },
  {
   "cell_type": "markdown",
   "metadata": {},
   "source": [
    "## A.\tImport the libraries"
   ]
  },
  {
   "cell_type": "code",
   "execution_count": 1,
   "metadata": {},
   "outputs": [],
   "source": [
    "import numpy as np\n",
    "import matplotlib.pyplot as plt\n",
    "import pandas as pd"
   ]
  },
  {
   "cell_type": "markdown",
   "metadata": {},
   "source": [
    "## B.\tLoading the dataset"
   ]
  },
  {
   "cell_type": "markdown",
   "metadata": {},
   "source": [
    "a. Membaca dataset NSE-TATAGLOBAL.csv"
   ]
  },
  {
   "cell_type": "code",
   "execution_count": 2,
   "metadata": {},
   "outputs": [],
   "source": [
    "dataset_train = pd.read_csv('asus.csv', sep = ';')\n",
    "training_set = dataset_train.iloc[:, 1:2].values"
   ]
  },
  {
   "cell_type": "markdown",
   "metadata": {},
   "source": [
    "b.\tMenampilkan lima baris teratas dari dataset training."
   ]
  },
  {
   "cell_type": "code",
   "execution_count": 3,
   "metadata": {},
   "outputs": [
    {
     "data": {
      "text/html": [
       "<div>\n",
       "<style scoped>\n",
       "    .dataframe tbody tr th:only-of-type {\n",
       "        vertical-align: middle;\n",
       "    }\n",
       "\n",
       "    .dataframe tbody tr th {\n",
       "        vertical-align: top;\n",
       "    }\n",
       "\n",
       "    .dataframe thead th {\n",
       "        text-align: right;\n",
       "    }\n",
       "</style>\n",
       "<table border=\"1\" class=\"dataframe\">\n",
       "  <thead>\n",
       "    <tr style=\"text-align: right;\">\n",
       "      <th></th>\n",
       "      <th>Date</th>\n",
       "      <th>Open</th>\n",
       "      <th>High</th>\n",
       "      <th>Low</th>\n",
       "      <th>Close*</th>\n",
       "      <th>Adj Close**</th>\n",
       "      <th>Volume</th>\n",
       "    </tr>\n",
       "  </thead>\n",
       "  <tbody>\n",
       "    <tr>\n",
       "      <th>0</th>\n",
       "      <td>Oct 30, 2019</td>\n",
       "      <td>208.0</td>\n",
       "      <td>209.5</td>\n",
       "      <td>207.5</td>\n",
       "      <td>209.5</td>\n",
       "      <td>209.5</td>\n",
       "      <td>1,016,077</td>\n",
       "    </tr>\n",
       "    <tr>\n",
       "      <th>1</th>\n",
       "      <td>Oct 29, 2019</td>\n",
       "      <td>212.0</td>\n",
       "      <td>212.0</td>\n",
       "      <td>208.0</td>\n",
       "      <td>209.5</td>\n",
       "      <td>209.5</td>\n",
       "      <td>1,014,068</td>\n",
       "    </tr>\n",
       "    <tr>\n",
       "      <th>2</th>\n",
       "      <td>Oct 28, 2019</td>\n",
       "      <td>210.0</td>\n",
       "      <td>211.5</td>\n",
       "      <td>209.0</td>\n",
       "      <td>211.5</td>\n",
       "      <td>211.5</td>\n",
       "      <td>606,653</td>\n",
       "    </tr>\n",
       "    <tr>\n",
       "      <th>3</th>\n",
       "      <td>Oct 25, 2019</td>\n",
       "      <td>212.0</td>\n",
       "      <td>212.5</td>\n",
       "      <td>207.5</td>\n",
       "      <td>209.0</td>\n",
       "      <td>209.0</td>\n",
       "      <td>1,628,445</td>\n",
       "    </tr>\n",
       "    <tr>\n",
       "      <th>4</th>\n",
       "      <td>Oct 24, 2019</td>\n",
       "      <td>210.5</td>\n",
       "      <td>212.0</td>\n",
       "      <td>209.5</td>\n",
       "      <td>211.5</td>\n",
       "      <td>211.5</td>\n",
       "      <td>1,259,050</td>\n",
       "    </tr>\n",
       "  </tbody>\n",
       "</table>\n",
       "</div>"
      ],
      "text/plain": [
       "           Date   Open   High    Low  Close*  Adj Close**     Volume\n",
       "0  Oct 30, 2019  208.0  209.5  207.5   209.5        209.5  1,016,077\n",
       "1  Oct 29, 2019  212.0  212.0  208.0   209.5        209.5  1,014,068\n",
       "2  Oct 28, 2019  210.0  211.5  209.0   211.5        211.5    606,653\n",
       "3  Oct 25, 2019  212.0  212.5  207.5   209.0        209.0  1,628,445\n",
       "4  Oct 24, 2019  210.5  212.0  209.5   211.5        211.5  1,259,050"
      ]
     },
     "execution_count": 3,
     "metadata": {},
     "output_type": "execute_result"
    }
   ],
   "source": [
    "dataset_train.head()"
   ]
  },
  {
   "cell_type": "markdown",
   "metadata": {},
   "source": [
    "## C.\tFeature Scaling"
   ]
  },
  {
   "cell_type": "code",
   "execution_count": 4,
   "metadata": {},
   "outputs": [],
   "source": [
    "from sklearn.preprocessing import MinMaxScaler\n",
    "sc = MinMaxScaler(feature_range = (0, 1))\n",
    "training_set_scaled = sc.fit_transform(training_set)"
   ]
  },
  {
   "cell_type": "markdown",
   "metadata": {},
   "source": [
    "## E.\tCreating Data with Timesteps"
   ]
  },
  {
   "cell_type": "code",
   "execution_count": 6,
   "metadata": {},
   "outputs": [],
   "source": [
    "X_train = []\n",
    "y_train = []\n",
    "for i in range(7, 217):\n",
    "    X_train.append(training_set_scaled[i-7:i, 0])\n",
    "    y_train.append(training_set_scaled[i, 0])\n",
    "X_train, y_train = np.array(X_train), np.array(y_train)\n",
    "\n",
    "X_train = np.reshape(X_train, (X_train.shape[0], X_train.shape[1], 1))"
   ]
  },
  {
   "cell_type": "markdown",
   "metadata": {},
   "source": [
    "## E.\tBuilding the LSTM"
   ]
  },
  {
   "cell_type": "code",
   "execution_count": 7,
   "metadata": {},
   "outputs": [
    {
     "name": "stderr",
     "output_type": "stream",
     "text": [
      "Using TensorFlow backend.\n"
     ]
    }
   ],
   "source": [
    "from keras.models import Sequential\n",
    "from keras.layers import Dense\n",
    "from keras.layers import LSTM\n",
    "from keras.layers import Dropout"
   ]
  },
  {
   "cell_type": "code",
   "execution_count": 8,
   "metadata": {},
   "outputs": [
    {
     "name": "stdout",
     "output_type": "stream",
     "text": [
      "WARNING:tensorflow:From D:\\Anaconda3\\envs\\kerasTensorflow\\lib\\site-packages\\tensorflow\\python\\ops\\resource_variable_ops.py:435: colocate_with (from tensorflow.python.framework.ops) is deprecated and will be removed in a future version.\n",
      "Instructions for updating:\n",
      "Colocations handled automatically by placer.\n",
      "WARNING:tensorflow:From D:\\Anaconda3\\envs\\kerasTensorflow\\lib\\site-packages\\tensorflow\\python\\ops\\math_ops.py:3066: to_int32 (from tensorflow.python.ops.math_ops) is deprecated and will be removed in a future version.\n",
      "Instructions for updating:\n",
      "Use tf.cast instead.\n",
      "Epoch 1/100\n",
      "210/210 [==============================] - 6s 28ms/step - loss: 0.0637\n",
      "Epoch 2/100\n",
      "210/210 [==============================] - 2s 8ms/step - loss: 0.0250\n",
      "Epoch 3/100\n",
      "210/210 [==============================] - 1s 7ms/step - loss: 0.0250\n",
      "Epoch 4/100\n",
      "210/210 [==============================] - 1s 7ms/step - loss: 0.0247\n",
      "Epoch 5/100\n",
      "210/210 [==============================] - 1s 7ms/step - loss: 0.0231\n",
      "Epoch 6/100\n",
      "210/210 [==============================] - 1s 7ms/step - loss: 0.0219\n",
      "Epoch 7/100\n",
      "210/210 [==============================] - 1s 5ms/step - loss: 0.0227\n",
      "Epoch 8/100\n",
      "210/210 [==============================] - 1s 5ms/step - loss: 0.0211\n",
      "Epoch 9/100\n",
      "210/210 [==============================] - 1s 5ms/step - loss: 0.0252\n",
      "Epoch 10/100\n",
      "210/210 [==============================] - 1s 5ms/step - loss: 0.0216\n",
      "Epoch 11/100\n",
      "210/210 [==============================] - 1s 5ms/step - loss: 0.0229\n",
      "Epoch 12/100\n",
      "210/210 [==============================] - 1s 5ms/step - loss: 0.0189\n",
      "Epoch 13/100\n",
      "210/210 [==============================] - 1s 5ms/step - loss: 0.0199\n",
      "Epoch 14/100\n",
      "210/210 [==============================] - 1s 5ms/step - loss: 0.0180\n",
      "Epoch 15/100\n",
      "210/210 [==============================] - 1s 5ms/step - loss: 0.0187\n",
      "Epoch 16/100\n",
      "210/210 [==============================] - 1s 5ms/step - loss: 0.0189\n",
      "Epoch 17/100\n",
      "210/210 [==============================] - 1s 5ms/step - loss: 0.0177\n",
      "Epoch 18/100\n",
      "210/210 [==============================] - 1s 5ms/step - loss: 0.0146\n",
      "Epoch 19/100\n",
      "210/210 [==============================] - 1s 5ms/step - loss: 0.0137\n",
      "Epoch 20/100\n",
      "210/210 [==============================] - 1s 5ms/step - loss: 0.0133\n",
      "Epoch 21/100\n",
      "210/210 [==============================] - 1s 5ms/step - loss: 0.0139\n",
      "Epoch 22/100\n",
      "210/210 [==============================] - 1s 5ms/step - loss: 0.0129\n",
      "Epoch 23/100\n",
      "210/210 [==============================] - 1s 5ms/step - loss: 0.0118\n",
      "Epoch 24/100\n",
      "210/210 [==============================] - 1s 5ms/step - loss: 0.0110\n",
      "Epoch 25/100\n",
      "210/210 [==============================] - 1s 5ms/step - loss: 0.0112\n",
      "Epoch 26/100\n",
      "210/210 [==============================] - 1s 5ms/step - loss: 0.0094\n",
      "Epoch 27/100\n",
      "210/210 [==============================] - 1s 5ms/step - loss: 0.0114\n",
      "Epoch 28/100\n",
      "210/210 [==============================] - 1s 5ms/step - loss: 0.0117\n",
      "Epoch 29/100\n",
      "210/210 [==============================] - 1s 5ms/step - loss: 0.0079\n",
      "Epoch 30/100\n",
      "210/210 [==============================] - 1s 5ms/step - loss: 0.0090\n",
      "Epoch 31/100\n",
      "210/210 [==============================] - 1s 5ms/step - loss: 0.0094\n",
      "Epoch 32/100\n",
      "210/210 [==============================] - 1s 5ms/step - loss: 0.0095\n",
      "Epoch 33/100\n",
      "210/210 [==============================] - 1s 5ms/step - loss: 0.0089\n",
      "Epoch 34/100\n",
      "210/210 [==============================] - 1s 5ms/step - loss: 0.0090\n",
      "Epoch 35/100\n",
      "210/210 [==============================] - 1s 5ms/step - loss: 0.0097\n",
      "Epoch 36/100\n",
      "210/210 [==============================] - 1s 5ms/step - loss: 0.0080\n",
      "Epoch 37/100\n",
      "210/210 [==============================] - 1s 5ms/step - loss: 0.0086\n",
      "Epoch 38/100\n",
      "210/210 [==============================] - 1s 5ms/step - loss: 0.0078\n",
      "Epoch 39/100\n",
      "210/210 [==============================] - 1s 5ms/step - loss: 0.0100\n",
      "Epoch 40/100\n",
      "210/210 [==============================] - 1s 5ms/step - loss: 0.0086\n",
      "Epoch 41/100\n",
      "210/210 [==============================] - 1s 5ms/step - loss: 0.0087\n",
      "Epoch 42/100\n",
      "210/210 [==============================] - 1s 5ms/step - loss: 0.0073\n",
      "Epoch 43/100\n",
      "210/210 [==============================] - 1s 5ms/step - loss: 0.0080\n",
      "Epoch 44/100\n",
      "210/210 [==============================] - 1s 5ms/step - loss: 0.0077\n",
      "Epoch 45/100\n",
      "210/210 [==============================] - 1s 5ms/step - loss: 0.0083\n",
      "Epoch 46/100\n",
      "210/210 [==============================] - 1s 5ms/step - loss: 0.0080\n",
      "Epoch 47/100\n",
      "210/210 [==============================] - 1s 5ms/step - loss: 0.0089\n",
      "Epoch 48/100\n",
      "210/210 [==============================] - 1s 5ms/step - loss: 0.0079\n",
      "Epoch 49/100\n",
      "210/210 [==============================] - 1s 5ms/step - loss: 0.0073\n",
      "Epoch 50/100\n",
      "210/210 [==============================] - 1s 5ms/step - loss: 0.0072\n",
      "Epoch 51/100\n",
      "210/210 [==============================] - 1s 5ms/step - loss: 0.0076\n",
      "Epoch 52/100\n",
      "210/210 [==============================] - 1s 5ms/step - loss: 0.0078\n",
      "Epoch 53/100\n",
      "210/210 [==============================] - 1s 5ms/step - loss: 0.0073\n",
      "Epoch 54/100\n",
      "210/210 [==============================] - 1s 5ms/step - loss: 0.0068\n",
      "Epoch 55/100\n",
      "210/210 [==============================] - 1s 5ms/step - loss: 0.0067\n",
      "Epoch 56/100\n",
      "210/210 [==============================] - 1s 5ms/step - loss: 0.0075\n",
      "Epoch 57/100\n",
      "210/210 [==============================] - 1s 4ms/step - loss: 0.0073\n",
      "Epoch 58/100\n",
      "210/210 [==============================] - 1s 4ms/step - loss: 0.0071\n",
      "Epoch 59/100\n",
      "210/210 [==============================] - 1s 4ms/step - loss: 0.0069\n",
      "Epoch 60/100\n",
      "210/210 [==============================] - 1s 4ms/step - loss: 0.0069\n",
      "Epoch 61/100\n",
      "210/210 [==============================] - 1s 5ms/step - loss: 0.0070\n",
      "Epoch 62/100\n",
      "210/210 [==============================] - 1s 5ms/step - loss: 0.0071\n",
      "Epoch 63/100\n",
      "210/210 [==============================] - 1s 5ms/step - loss: 0.0068\n",
      "Epoch 64/100\n",
      "210/210 [==============================] - 1s 5ms/step - loss: 0.0077\n",
      "Epoch 65/100\n",
      "210/210 [==============================] - 1s 5ms/step - loss: 0.0058\n",
      "Epoch 66/100\n",
      "210/210 [==============================] - 1s 4ms/step - loss: 0.0074\n",
      "Epoch 67/100\n",
      "210/210 [==============================] - 1s 4ms/step - loss: 0.0067\n",
      "Epoch 68/100\n",
      "210/210 [==============================] - 1s 5ms/step - loss: 0.0070\n",
      "Epoch 69/100\n",
      "210/210 [==============================] - 1s 4ms/step - loss: 0.0064\n",
      "Epoch 70/100\n",
      "210/210 [==============================] - 1s 5ms/step - loss: 0.0081\n",
      "Epoch 71/100\n",
      "210/210 [==============================] - 1s 5ms/step - loss: 0.0068\n",
      "Epoch 72/100\n",
      "210/210 [==============================] - 1s 4ms/step - loss: 0.0063\n",
      "Epoch 73/100\n",
      "210/210 [==============================] - 1s 4ms/step - loss: 0.0072\n",
      "Epoch 74/100\n",
      "210/210 [==============================] - 1s 4ms/step - loss: 0.0069\n",
      "Epoch 75/100\n",
      "210/210 [==============================] - 1s 4ms/step - loss: 0.0059\n",
      "Epoch 76/100\n",
      "210/210 [==============================] - 1s 4ms/step - loss: 0.0071\n",
      "Epoch 77/100\n",
      "210/210 [==============================] - 1s 3ms/step - loss: 0.0076\n",
      "Epoch 78/100\n",
      "210/210 [==============================] - 1s 3ms/step - loss: 0.0076\n",
      "Epoch 79/100\n",
      "210/210 [==============================] - 1s 3ms/step - loss: 0.0071\n",
      "Epoch 80/100\n",
      "210/210 [==============================] - 1s 3ms/step - loss: 0.0077\n",
      "Epoch 81/100\n",
      "210/210 [==============================] - 1s 3ms/step - loss: 0.0071\n",
      "Epoch 82/100\n",
      "210/210 [==============================] - 1s 3ms/step - loss: 0.0069\n",
      "Epoch 83/100\n",
      "210/210 [==============================] - 1s 3ms/step - loss: 0.0066\n",
      "Epoch 84/100\n",
      "210/210 [==============================] - 1s 3ms/step - loss: 0.0063\n",
      "Epoch 85/100\n",
      "210/210 [==============================] - 1s 3ms/step - loss: 0.0070\n",
      "Epoch 86/100\n",
      "210/210 [==============================] - 1s 3ms/step - loss: 0.0063\n",
      "Epoch 87/100\n",
      "210/210 [==============================] - 1s 3ms/step - loss: 0.0062\n",
      "Epoch 88/100\n",
      "210/210 [==============================] - 1s 3ms/step - loss: 0.0068\n",
      "Epoch 89/100\n",
      "210/210 [==============================] - 1s 3ms/step - loss: 0.0064\n",
      "Epoch 90/100\n",
      "210/210 [==============================] - 1s 3ms/step - loss: 0.0065\n",
      "Epoch 91/100\n",
      "210/210 [==============================] - 1s 3ms/step - loss: 0.0072\n",
      "Epoch 92/100\n",
      "210/210 [==============================] - 1s 3ms/step - loss: 0.0062\n",
      "Epoch 93/100\n",
      "210/210 [==============================] - 1s 3ms/step - loss: 0.0062\n",
      "Epoch 94/100\n",
      "210/210 [==============================] - 1s 3ms/step - loss: 0.0065\n",
      "Epoch 95/100\n",
      "210/210 [==============================] - 1s 3ms/step - loss: 0.0072\n",
      "Epoch 96/100\n",
      "210/210 [==============================] - 1s 3ms/step - loss: 0.0076\n",
      "Epoch 97/100\n",
      "210/210 [==============================] - 1s 3ms/step - loss: 0.0062\n",
      "Epoch 98/100\n",
      "210/210 [==============================] - 1s 3ms/step - loss: 0.0063\n",
      "Epoch 99/100\n",
      "210/210 [==============================] - 1s 3ms/step - loss: 0.0065\n",
      "Epoch 100/100\n",
      "210/210 [==============================] - 1s 3ms/step - loss: 0.0068\n"
     ]
    },
    {
     "data": {
      "text/plain": [
       "<keras.callbacks.callbacks.History at 0x54e2b5ad30>"
      ]
     },
     "execution_count": 8,
     "metadata": {},
     "output_type": "execute_result"
    }
   ],
   "source": [
    "regressor = Sequential()\n",
    "\n",
    "regressor.add(LSTM(units = 50, return_sequences = True, input_shape = (X_train.shape[1], 1)))\n",
    "regressor.add(Dropout(0.2))\n",
    "\n",
    "regressor.add(LSTM(units = 50, return_sequences = True))\n",
    "regressor.add(Dropout(0.2))\n",
    "\n",
    "regressor.add(LSTM(units = 50, return_sequences = True))\n",
    "regressor.add(Dropout(0.2))\n",
    "\n",
    "regressor.add(LSTM(units = 50))\n",
    "regressor.add(Dropout(0.2))\n",
    "\n",
    "regressor.add(Dense(units = 1))\n",
    "\n",
    "regressor.compile(optimizer = 'adam', loss = 'mean_squared_error')\n",
    "\n",
    "regressor.fit(X_train, y_train, epochs = 100, batch_size = 3)"
   ]
  },
  {
   "cell_type": "markdown",
   "metadata": {},
   "source": [
    "## F.\tPredicting Future Stock using the Test Set"
   ]
  },
  {
   "cell_type": "code",
   "execution_count": 9,
   "metadata": {},
   "outputs": [],
   "source": [
    "dataset_test = pd.read_csv('asustest.csv', sep = ';')\n",
    "real_stock_price = dataset_test.iloc[:, 1:2].values"
   ]
  },
  {
   "cell_type": "code",
   "execution_count": 11,
   "metadata": {},
   "outputs": [],
   "source": [
    "dataset_total = pd.concat((dataset_train['Open'], dataset_test['Open']), axis = 0)\n",
    "inputs = dataset_total[len(dataset_total) - len(dataset_test) - 7:].values\n",
    "inputs = inputs.reshape(-1,1)\n",
    "inputs = sc.transform(inputs)\n",
    "X_test = []\n",
    "for i in range(7, 31):\n",
    "    X_test.append(inputs[i-7:i, 0])\n",
    "X_test = np.array(X_test)\n",
    "X_test = np.reshape(X_test, (X_test.shape[0], X_test.shape[1], 1))\n",
    "predicted_stock_price = regressor.predict(X_test)\n",
    "predicted_stock_price = sc.inverse_transform(predicted_stock_price)"
   ]
  },
  {
   "cell_type": "markdown",
   "metadata": {},
   "source": [
    "## G.\tPlotting the Result"
   ]
  },
  {
   "cell_type": "markdown",
   "metadata": {},
   "source": [
    "Visualisasi harga saham prediksi dengan harga saham sebenarnya dari Asus."
   ]
  },
  {
   "cell_type": "code",
   "execution_count": 12,
   "metadata": {},
   "outputs": [
    {
     "data": {
      "image/png": "[encoded data removed]",
      "text/plain": [
       "<Figure size 432x288 with 1 Axes>"
      ]
     },
     "metadata": {
      "needs_background": "light"
     },
     "output_type": "display_data"
    }
   ],
   "source": [
    "plt.plot(real_stock_price, color = 'black', label = 'Asus Stock Price')\n",
    "plt.plot(predicted_stock_price, color = 'green', label = 'Predicted Asus Stock Price')\n",
    "plt.title('Asus Stock Price Prediction')\n",
    "plt.xlabel('Time')\n",
    "plt.ylabel('Asus Stock Price')\n",
    "plt.legend()\n",
    "plt.show()"
   ]
  },
  {
   "cell_type": "markdown",
   "metadata": {},
   "source": [
    "Pada grafik tersebut dapat dilihat bahwa penggunaan LSTM dapat memprediksi pergerakan harga saham Asus dengan akurat."
   ]
  }
 ],
 "metadata": {
  "kernelspec": {
   "display_name": "Python 3",
   "language": "python",
   "name": "python3"
  },
  "language_info": {
   "codemirror_mode": {
    "name": "ipython",
    "version": 3
   },
   "file_extension": ".py",
   "mimetype": "text/x-python",
   "name": "python",
   "nbconvert_exporter": "python",
   "pygments_lexer": "ipython3",
   "version": "3.6.8"
  }
 },
 "nbformat": 4,
 "nbformat_minor": 2
}
